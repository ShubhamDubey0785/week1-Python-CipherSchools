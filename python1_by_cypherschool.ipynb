{
  "cells": [
    {
      "cell_type": "code",
      "source": [
        "# user input\n",
        "#  input function\n",
        "name=input(\"type your name\")\n",
        "print(\"hello\"+name)\n",
        "# string\n",
        "age=input(\"what is your age\")\n",
        "# 24.\"24\"\n",
        "print(\"your age is\"+age)"
      ],
      "metadata": {
        "id": "8A45Zu59v6o4"
      },
      "execution_count": null,
      "outputs": []
    },
    {
      "cell_type": "code",
      "execution_count": null,
      "metadata": {
        "colab": {
          "base_uri": "https://localhost:8080/"
        },
        "id": "jLyXJA7RozP7",
        "outputId": "e8784bb4-775f-4439-ca15-0b1cf690efbc"
      },
      "outputs": [
        {
          "name": "stdout",
          "output_type": "stream",
          "text": [
            "o\n"
          ]
        }
      ],
      "source": [
        "# string indexing\n",
        "language=\"python\"\n",
        "# p=0,-6\n",
        "# y=1,-5\n",
        "# t=2,-4\n",
        "# h=3,-3\n",
        "# o=4,-2\n",
        "# n=5,-1\n",
        "print(language[4])"
      ]
    },
    {
      "cell_type": "code",
      "execution_count": null,
      "metadata": {
        "colab": {
          "base_uri": "https://localhost:8080/"
        },
        "id": "Z4qvo6znpr5i",
        "outputId": "a4ccb127-e680-4acd-ae40-02e570ec994d"
      },
      "outputs": [
        {
          "name": "stdout",
          "output_type": "stream",
          "text": [
            "Py\n"
          ]
        }
      ],
      "source": [
        "#  slicing/selecting sub sequences\n",
        "lang=\"Python\"\n",
        "# symtax - [start agrument:stop argument -1]\n",
        "print(lang[0:2])"
      ]
    },
    {
      "cell_type": "code",
      "execution_count": null,
      "metadata": {
        "colab": {
          "base_uri": "https://localhost:8080/"
        },
        "id": "b9Ftau0cqgIM",
        "outputId": "c1f96181-d28b-49c4-96ed-3c17cab9200d"
      },
      "outputs": [
        {
          "name": "stdout",
          "output_type": "stream",
          "text": [
            "Pto\n",
            "nohtyP\n"
          ]
        }
      ],
      "source": [
        "# step argument\n",
        "# [start argument:stop argument :step argument]\n",
        "lang = \"Python\"\n",
        "print(lang[0:5:2])\n",
        "print(lang[5::-1])"
      ]
    },
    {
      "cell_type": "code",
      "execution_count": null,
      "metadata": {
        "colab": {
          "base_uri": "https://localhost:8080/"
        },
        "id": "q5Vkx8g0rBTU",
        "outputId": "3cae56cd-b52a-4f5a-beec-5fed91cfd38d"
      },
      "outputs": [
        {
          "name": "stdout",
          "output_type": "stream",
          "text": [
            "enter your nameshubham\n",
            "reverse of your name is mahbuhs\n",
            "reverse of your name is mahbuhs\n"
          ]
        }
      ],
      "source": [
        "name=input(\"enter your name\")\n",
        "reverse=name[-1::-1]\n",
        "print(f\"reverse of your name is {reverse}\")\n",
        "print(f\"reverse of your name is {name[-1::-1]}\")"
      ]
    },
    {
      "cell_type": "code",
      "execution_count": null,
      "metadata": {
        "colab": {
          "base_uri": "https://localhost:8080/"
        },
        "id": "c-mHnA1It19O",
        "outputId": "7b2bb42d-39fb-4f78-9c7e-26352038ec8b"
      },
      "outputs": [
        {
          "name": "stdout",
          "output_type": "stream",
          "text": [
            "17\n",
            "harshit vashistha\n",
            "HARSHIT VASHISTHA\n",
            "Harshit Vashistha\n",
            "1\n"
          ]
        }
      ],
      "source": [
        "#  string function\n",
        "name=\"HaRsHiT vASHISThA\"\n",
        "print(len(name))\n",
        "print(name.lower())\n",
        "print(name.upper())\n",
        "print(name.title())\n",
        "print(name.count(\"h\"))    # case sensitive"
      ]
    },
    {
      "cell_type": "code",
      "execution_count": null,
      "metadata": {
        "colab": {
          "base_uri": "https://localhost:8080/"
        },
        "id": "dPnohDxgvj2D",
        "outputId": "6dc7d5be-7bc4-4bc2-95cb-4a1c76e91d9b"
      },
      "outputs": [
        {
          "name": "stdout",
          "output_type": "stream",
          "text": [
            "enter comma separated name and character : harshit,h\n",
            "length of your name is 7\n",
            "character count : 2\n"
          ]
        }
      ],
      "source": [
        "name,char=input(\"enter comma separated name and character : \").split(\",\")\n",
        "print(f\"length of your name is {len(name)}\")\n",
        "print(f\"character count : {name.lower().count(char.lower())}\")    # case sensitive"
      ]
    },
    {
      "cell_type": "code",
      "execution_count": null,
      "metadata": {
        "colab": {
          "base_uri": "https://localhost:8080/",
          "height": 122
        },
        "id": "6mhNcz1A3vCx",
        "outputId": "9f07407e-e4a0-46ba-d16c-f0e0cc2290b6"
      },
      "outputs": [
        {
          "name": "stdout",
          "output_type": "stream",
          "text": [
            "    Har    shit...........\n",
            "Har    shit...........\n",
            "    Har    shit...........\n",
            "Har    shit...........\n"
          ]
        },
        {
          "data": {
            "application/vnd.google.colaboratory.intrinsic+json": {
              "type": "string"
            },
            "text/plain": [
              "'............................................Har............................................shit'"
            ]
          },
          "execution_count": 15,
          "metadata": {},
          "output_type": "execute_result"
        }
      ],
      "source": [
        "# strip  mrthod\n",
        "name=\"    Har    shit\"\n",
        "dots=\"...........\"\n",
        "print(name+dots)\n",
        "print(name.lstrip() +dots)\n",
        "print(name.rstrip()+dots)\n",
        "print(name.strip()+dots)\n",
        "name.replace(\" \",\"\" +dots)"
      ]
    },
    {
      "cell_type": "code",
      "execution_count": null,
      "metadata": {
        "colab": {
          "base_uri": "https://localhost:8080/"
        },
        "id": "APAZbl5l5eJQ",
        "outputId": "49a66b34-7e4b-4ab4-cff3-7ea715ac0f87"
      },
      "outputs": [
        {
          "name": "stdout",
          "output_type": "stream",
          "text": [
            "enter comma separated name and character :            Harshit      ,h\n",
            "length of your name is 24\n",
            "character count : 2\n"
          ]
        }
      ],
      "source": [
        "name,char=input(\"enter comma separated name and character : \").split(\",\")\n",
        "print(f\"length of your name is {len(name)}\")\n",
        "print(f\"character count : {name.lower().count(char.lower())}\") \n",
        "\n"
      ]
    },
    {
      "cell_type": "code",
      "execution_count": null,
      "metadata": {
        "colab": {
          "base_uri": "https://localhost:8080/",
          "height": 36
        },
        "id": "3X7bfLQP7qoM",
        "outputId": "59a27f0b-3074-41a2-e2d8-dc514c7aa581"
      },
      "outputs": [
        {
          "data": {
            "application/vnd.google.colaboratory.intrinsic+json": {
              "type": "string"
            },
            "text/plain": [
              "'she was beautiful and she was good dancer '"
            ]
          },
          "execution_count": 21,
          "metadata": {},
          "output_type": "execute_result"
        }
      ],
      "source": [
        "# replace method\n",
        "string=\"she is beautiful and she is good dancer \"\n",
        "string.replace(\" \",\"_\")\n",
        "string.replace(\"is\",\"was\",1)\n",
        "string.replace(\"is\",\"was\",2)"
      ]
    },
    {
      "cell_type": "code",
      "execution_count": null,
      "metadata": {
        "colab": {
          "background_save": true
        },
        "id": "OcuSvl1y-Kx5",
        "outputId": "aa00ee51-b89b-4e52-cab2-0e632a3e6ce4"
      },
      "outputs": [
        {
          "data": {
            "text/plain": [
              "4"
            ]
          },
          "execution_count": 22,
          "metadata": {},
          "output_type": "execute_result"
        }
      ],
      "source": [
        "string=\"she is beautiful and she is good dancer \"\n",
        "print(string.find(\"is\"))"
      ]
    },
    {
      "cell_type": "code",
      "source": [
        "# string\n",
        "name=\"rharshit\"\n",
        "# name[2]=\"s\"\n",
        "print(name.replace(\"h\",\"H\",1))\n",
        "print(name)\n",
        "print(name[1])\n",
        "print(name[0:5])\n",
        "print(name[-1:0:-1])\n",
        "age=int(input(\"enter your ag:\"))\n",
        "print(age)\n",
        "user_name,age=input(\"enter your name and age:\").split(\",\")\n",
        "print(user_name)\n",
        "print(age)\n",
        "# len function\n",
        "print(len(name))\n",
        "print(name.lower())\n",
        "print(name.upper())\n",
        "print(name.title())\n",
        "print(name.find(\"r\"))\n",
        "r_pos=name.find(\"r\")\n",
        "r_pos2=name.find(\"r\",r_pos+1)\n",
        "print(r_pos2)\n",
        "print(name.center(11,\"*\"))"
      ],
      "metadata": {
        "colab": {
          "base_uri": "https://localhost:8080/"
        },
        "id": "aAPtyHbYVOkK",
        "outputId": "2b126322-9e2b-42fb-f601-9f5f8ca1ace1"
      },
      "execution_count": 4,
      "outputs": [
        {
          "output_type": "stream",
          "name": "stdout",
          "text": [
            "rHarshit\n",
            "rharshit\n",
            "h\n",
            "rhars\n",
            "tihsrah\n",
            "enter your ag:45\n",
            "45\n",
            "enter your name and age:dfiugh,15\n",
            "dfiugh\n",
            "15\n",
            "8\n",
            "rharshit\n",
            "RHARSHIT\n",
            "Rharshit\n",
            "0\n",
            "3\n",
            "**rharshit*\n"
          ]
        }
      ]
    },
    {
      "cell_type": "code",
      "source": [
        "age=input(\"enter your age:\")\n",
        "age=int(age)\n",
        "if age>=14:\n",
        "  print(\"line a\")\n",
        "  print(\"you are above 14\")"
      ],
      "metadata": {
        "colab": {
          "base_uri": "https://localhost:8080/"
        },
        "id": "CDhD-DDdVjLf",
        "outputId": "522edbc2-4265-426c-a629-d2c0e5869a54"
      },
      "execution_count": 5,
      "outputs": [
        {
          "output_type": "stream",
          "name": "stdout",
          "text": [
            "enter your age:15\n",
            "line a\n",
            "you are above 14\n"
          ]
        }
      ]
    },
    {
      "cell_type": "code",
      "source": [
        "#  pass statement\n",
        "x=18\n",
        "if x>18:\n",
        "  pass"
      ],
      "metadata": {
        "id": "CkWAVoDmbKLe"
      },
      "execution_count": 6,
      "outputs": []
    },
    {
      "cell_type": "code",
      "source": [
        "age=input(\"enter your age:\")\n",
        "age=int(age)\n",
        "if age>=14:\n",
        "  print(\"line a\")\n",
        "  print(\"you are above 14\")\n",
        "else:\n",
        "  print(\"sorry you can't play\")\n",
        "\n"
      ],
      "metadata": {
        "colab": {
          "base_uri": "https://localhost:8080/"
        },
        "id": "sJjJ6iaFbko4",
        "outputId": "101e773e-79f2-4eb0-b663-cfd2fc75f000"
      },
      "execution_count": 8,
      "outputs": [
        {
          "output_type": "stream",
          "name": "stdout",
          "text": [
            "enter your age:14\n",
            "line a\n",
            "you are above 14\n"
          ]
        }
      ]
    },
    {
      "cell_type": "code",
      "source": [
        "winning_number=22\n",
        "user_input=input(\"guess number\")\n",
        "user_input=int(user_input)\n",
        "if user_input==winning_number:\n",
        "  print(\"you win\")\n",
        "else:\n",
        "  if user_input<winning_number:\n",
        "    print(\"too low\")\n",
        "  else:\n",
        "    print(\"too high\")"
      ],
      "metadata": {
        "colab": {
          "base_uri": "https://localhost:8080/"
        },
        "id": "1ZuUHzETdtIU",
        "outputId": "cc69dbda-c24e-49a8-d797-bddf1be92cdc"
      },
      "execution_count": 10,
      "outputs": [
        {
          "output_type": "stream",
          "name": "stdout",
          "text": [
            "guess number48\n",
            "too high\n"
          ]
        }
      ]
    },
    {
      "cell_type": "code",
      "source": [
        "#  and ,or\n",
        "name='abc'\n",
        "age=19\n",
        "if name=='abc' and age==19:\n",
        "  print(\"condition true\")\n",
        "else:\n",
        "  print(\"condition false\")\n"
      ],
      "metadata": {
        "colab": {
          "base_uri": "https://localhost:8080/"
        },
        "id": "UxAWZL8VfWET",
        "outputId": "1817980d-48d9-4039-bf73-b9438e54c18d"
      },
      "execution_count": 12,
      "outputs": [
        {
          "output_type": "stream",
          "name": "stdout",
          "text": [
            "condition true\n"
          ]
        }
      ]
    },
    {
      "cell_type": "code",
      "source": [
        "user_name=input(\"entr your name\")\n",
        "user_age=input(\"enter your age\")\n",
        "user_age=int(user_age)\n",
        "if user_age>=10 and (user_name[0]==\"a\" or user_name[0]==\"A\"):\n",
        "  print(\"you can watch coco\")\n",
        "else:\n",
        "  print(\"you can't watch coco\")"
      ],
      "metadata": {
        "colab": {
          "base_uri": "https://localhost:8080/"
        },
        "id": "jmLv1ly9gUTP",
        "outputId": "7a869398-8532-4048-f732-5ff9aa52f287"
      },
      "execution_count": 13,
      "outputs": [
        {
          "output_type": "stream",
          "name": "stdout",
          "text": [
            "entr your nameabc\n",
            "enter your age15\n",
            "you can watch coco\n"
          ]
        }
      ]
    },
    {
      "cell_type": "code",
      "source": [
        "#  if elif and else statement\n",
        "age=input(\"enter your age\")\n",
        "age=int(age)\n",
        "if 0<age<3:\n",
        "  print(\"ticket price: free\")\n",
        "elif 3<age<10:\n",
        "  print(\"ticket price is 150\")\n",
        "elif 10<age<60:\n",
        "  print(\"ticket price is 250\")\n",
        "else:\n",
        "  print(\"ticket price:200\")"
      ],
      "metadata": {
        "colab": {
          "base_uri": "https://localhost:8080/"
        },
        "id": "fMlGRw9_h-rc",
        "outputId": "75323997-e7b4-498a-ff60-03ccacef07af"
      },
      "execution_count": 15,
      "outputs": [
        {
          "output_type": "stream",
          "name": "stdout",
          "text": [
            "enter your age2\n",
            "ticket price: free\n"
          ]
        }
      ]
    },
    {
      "cell_type": "code",
      "source": [
        "name=\"Harshit\"\n",
        "if \"H\" in \"Harshit\":\n",
        "  print(\"H is present in name\")\n",
        "else:\n",
        "  print(\"H is not present in name\")"
      ],
      "metadata": {
        "colab": {
          "base_uri": "https://localhost:8080/"
        },
        "id": "yJq8Lb6xi6Or",
        "outputId": "8fad6339-36bd-4f92-a119-37b79129f4b5"
      },
      "execution_count": 18,
      "outputs": [
        {
          "output_type": "stream",
          "name": "stdout",
          "text": [
            "H is present in name\n"
          ]
        }
      ]
    },
    {
      "cell_type": "code",
      "source": [
        "# check empty or not\n",
        "name=\"abc\"\n",
        "if name:         # true if string is not empty\n",
        "    print(\"string is not empty\")\n",
        "else:\n",
        "  print(\"string is empty\")\n"
      ],
      "metadata": {
        "id": "YHs79mCJkgAY"
      },
      "execution_count": null,
      "outputs": []
    },
    {
      "cell_type": "code",
      "source": [
        "# loops\n",
        "# while loop, for loop\n",
        "i=1\n",
        "while i<=13:\n",
        "  print(\"hello world\")\n",
        "  i=i+1"
      ],
      "metadata": {
        "colab": {
          "base_uri": "https://localhost:8080/"
        },
        "id": "J6LwTO_1lWtg",
        "outputId": "f7d78c94-6184-4104-d850-b1408067eb96"
      },
      "execution_count": 21,
      "outputs": [
        {
          "output_type": "stream",
          "name": "stdout",
          "text": [
            "hello world\n",
            "hello world\n",
            "hello world\n",
            "hello world\n",
            "hello world\n",
            "hello world\n",
            "hello world\n"
          ]
        }
      ]
    },
    {
      "cell_type": "code",
      "source": [
        "total=0\n",
        "i=1\n",
        "while i<=10:\n",
        "  total=total+i\n",
        "  i+=1\n",
        "print(total)\n"
      ],
      "metadata": {
        "colab": {
          "base_uri": "https://localhost:8080/"
        },
        "id": "MWgiVPWwmUPP",
        "outputId": "a9e80b51-ac6d-4826-9aa2-b4a513d8e50c"
      },
      "execution_count": 24,
      "outputs": [
        {
          "output_type": "stream",
          "name": "stdout",
          "text": [
            "55\n"
          ]
        }
      ]
    },
    {
      "cell_type": "code",
      "source": [
        "user=int(input(\"enter you number\"))\n",
        "total=0\n",
        "i=1\n",
        "while i <= user:\n",
        "  total+=i\n",
        "  i+=1\n",
        "print(total)\n"
      ],
      "metadata": {
        "colab": {
          "base_uri": "https://localhost:8080/"
        },
        "id": "-K3q10ocnfmk",
        "outputId": "de2a35b2-00cc-4dff-a204-a745d1a29c3f"
      },
      "execution_count": 27,
      "outputs": [
        {
          "output_type": "stream",
          "name": "stdout",
          "text": [
            "enter you number10\n",
            "55\n"
          ]
        }
      ]
    },
    {
      "cell_type": "code",
      "source": [
        "# exercise 4\n",
        "number=input(\"enter your number\")\n",
        "total=0\n",
        "i=0\n",
        "while i<len(number):\n",
        "  total+=int(number[i])\n",
        "  i+=1\n",
        "print(total)"
      ],
      "metadata": {
        "colab": {
          "base_uri": "https://localhost:8080/"
        },
        "id": "x8NcWJFZoB5S",
        "outputId": "adec5364-e07a-4620-9f55-aba02e16835c"
      },
      "execution_count": 29,
      "outputs": [
        {
          "output_type": "stream",
          "name": "stdout",
          "text": [
            "enter your number1111\n",
            "4\n"
          ]
        }
      ]
    },
    {
      "cell_type": "code",
      "source": [
        "# Exercise 5\n",
        "name=input(\"please enter your name: \")\n",
        "temp_var = \"\"\n",
        "i = 0\n",
        "while i < len(name):\n",
        "  if name[i] not in temp_var:\n",
        "    temp_var += name[i]\n",
        "    print(f\"{name[i]} : {name.count(name[i])}\")\n",
        "    i += 1"
      ],
      "metadata": {
        "colab": {
          "base_uri": "https://localhost:8080/"
        },
        "id": "2gufPZ9zoNrN",
        "outputId": "2926dbf7-3043-430a-850e-49fc8d9a924c"
      },
      "execution_count": null,
      "outputs": [
        {
          "output_type": "stream",
          "name": "stdout",
          "text": [
            "please enter your name: harshit\n",
            "h : 2\n",
            "a : 1\n",
            "r : 1\n",
            "s : 1\n"
          ]
        }
      ]
    }
  ],
  "metadata": {
    "colab": {
      "provenance": []
    },
    "kernelspec": {
      "display_name": "Python 3",
      "name": "python3"
    },
    "language_info": {
      "name": "python"
    }
  },
  "nbformat": 4,
  "nbformat_minor": 0
}
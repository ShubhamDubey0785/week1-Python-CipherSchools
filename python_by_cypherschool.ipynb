{
  "nbformat": 4,
  "nbformat_minor": 0,
  "metadata": {
    "colab": {
      "provenance": []
    },
    "kernelspec": {
      "name": "python3",
      "display_name": "Python 3"
    },
    "language_info": {
      "name": "python"
    }
  },
  "cells": [
    {
      "cell_type": "code",
      "execution_count": null,
      "metadata": {
        "id": "mGV9RbU9-ULA",
        "colab": {
          "base_uri": "https://localhost:8080/"
        },
        "outputId": "88ff7050-df8b-4323-9122-b7f27ae07510"
      },
      "outputs": [
        {
          "output_type": "stream",
          "name": "stdout",
          "text": [
            "Hello world\n"
          ]
        }
      ],
      "source": [
        "print(\"Hello world\")"
      ]
    },
    {
      "cell_type": "code",
      "source": [
        "print(\"Hello 'world' world\")\n",
        "print('Hello \"world\" world')\n",
        "# print('Hello 'word' world') it will through syntax error\n",
        "# print(\"Hello \"word\" world\") it will through syntax error"
      ],
      "metadata": {
        "colab": {
          "base_uri": "https://localhost:8080/"
        },
        "id": "xV6zpgTXRqQM",
        "outputId": "5e996794-98c3-408b-d77c-2e071f4b2e9a"
      },
      "execution_count": null,
      "outputs": [
        {
          "output_type": "stream",
          "name": "stdout",
          "text": [
            "Hello 'world' world\n",
            "Hello \"world\" world\n"
          ]
        }
      ]
    },
    {
      "cell_type": "code",
      "source": [
        "# escape sequence\n",
        "print(\"hello \\\"world\\\" world\")\n",
        "print(\"this is for\\n new line\")\n",
        "print(\"this is for\\t one tab space\")\n",
        "print(\"this is for single backslash \\\\\")\n",
        "print(\"this is for double backslash \\\\\\\\\")"
      ],
      "metadata": {
        "colab": {
          "base_uri": "https://localhost:8080/"
        },
        "id": "pPrq28FaSwPm",
        "outputId": "90307185-c731-414b-fbcd-dd8193779234"
      },
      "execution_count": null,
      "outputs": [
        {
          "output_type": "stream",
          "name": "stdout",
          "text": [
            "hello \"world\" world\n",
            "this is for\n",
            " new line\n",
            "this is for\t one tab space\n",
            "this is for single backslash \\\n",
            "this is for double backslash \\\\\n"
          ]
        }
      ]
    },
    {
      "cell_type": "code",
      "source": [
        "# output: Line A \\n Line B\n",
        "print(\"Line A \\\\n Line B\")\n",
        "print(\"Line A \\\\t Line B\")\n",
        "print(\"Line A \\\\t Line B\")\n",
        "print(\"this is four backslash\\\\\\\\\\\\\\\\\")"
      ],
      "metadata": {
        "colab": {
          "base_uri": "https://localhost:8080/"
        },
        "id": "PMeCwjCU2GnY",
        "outputId": "4a85dc47-4e8b-4f57-9e69-2e756aa8ec90"
      },
      "execution_count": null,
      "outputs": [
        {
          "output_type": "stream",
          "name": "stdout",
          "text": [
            "Line A \\n Line B\n",
            "Line A \\t Line B\n",
            "Line A \\t Line B\n",
            "this is four backslash\\\\\\\\\n"
          ]
        }
      ]
    },
    {
      "cell_type": "code",
      "source": [
        "# output : \\\" \\'\n",
        "print(\"\\\\\\\"\\\\\\'\")\n",
        "# \\' - '(b)\n",
        "# \\\\ - \\(a)\n",
        "# \\\\\\' -\\'"
      ],
      "metadata": {
        "colab": {
          "base_uri": "https://localhost:8080/"
        },
        "id": "fsxjlS7C3fip",
        "outputId": "aa073593-1fbb-476b-9726-58eb7a94f18b"
      },
      "execution_count": null,
      "outputs": [
        {
          "output_type": "stream",
          "name": "stdout",
          "text": [
            "\\\"\\'\n"
          ]
        }
      ]
    },
    {
      "cell_type": "code",
      "source": [
        "# output: this is \\\\ double backslash\n",
        "print(\"this is \\\\\\\\ double backslash\")\n",
        "# output: this is /\\/\\/\\/\\/\\ mountain\n",
        "print(\"this is /\\\\/\\\\/\\\\/\\\\/\\\\ mountain\")\n",
        "# output: he is     awesome\n",
        "print(\"he is \\t awesome\")\n",
        "# output: \\\" \\n \\t \\'\n",
        "print(\"\\\\\\\" \\\\n  \\\\t \\\\\\'\")"
      ],
      "metadata": {
        "colab": {
          "base_uri": "https://localhost:8080/"
        },
        "id": "Tjarjude4X8L",
        "outputId": "2d3e43b8-cf2a-4060-8047-2468fcbb6a85"
      },
      "execution_count": null,
      "outputs": [
        {
          "output_type": "stream",
          "name": "stdout",
          "text": [
            "this is \\\\ double backslash\n",
            "this is /\\/\\/\\/\\/\\ mountain\n",
            "he is \t awesome\n",
            "\\\" \\n  \\t \\'\n"
          ]
        }
      ]
    },
    {
      "cell_type": "code",
      "source": [
        "print(r\"line A \\n line B\")"
      ],
      "metadata": {
        "colab": {
          "base_uri": "https://localhost:8080/"
        },
        "id": "dfYXYY4i63dz",
        "outputId": "764b7abc-21cd-491e-c039-965945c0cf38"
      },
      "execution_count": null,
      "outputs": [
        {
          "output_type": "stream",
          "name": "stdout",
          "text": [
            "line A \\n line B\n"
          ]
        }
      ]
    },
    {
      "cell_type": "code",
      "source": [
        "print(\"\\U0001F602\")\n",
        "print(\"\\U0001F604\")\n",
        "print(\"\\U0001F618\")"
      ],
      "metadata": {
        "colab": {
          "base_uri": "https://localhost:8080/"
        },
        "id": "ZjwcRkE27NXm",
        "outputId": "9d3add9d-06fc-4a40-9b43-da4854f6fb8f"
      },
      "execution_count": null,
      "outputs": [
        {
          "output_type": "stream",
          "name": "stdout",
          "text": [
            "😂\n",
            "😄\n",
            "😘\n"
          ]
        }
      ]
    },
    {
      "cell_type": "code",
      "source": [
        "print(2+3*4)\n",
        "print(2/4)\n",
        "print(4/2)\n",
        "print(4//2)\n",
        "print(2//4)\n",
        "print(2**3)\n",
        "print(2**0.5)\n",
        "print(round(2**0.5,4))\n",
        "print(2**3/2*6-4*(3-4/2))\n",
        "print(3%2)\n",
        "print((2+3)*5/2%6)\n",
        "# exponents\n",
        "print(2**3**2)  # it is run right to left\n"
      ],
      "metadata": {
        "colab": {
          "base_uri": "https://localhost:8080/"
        },
        "id": "WHGILNui_r_M",
        "outputId": "8512a18d-4d83-4b54-a310-2a80e6b9a01b"
      },
      "execution_count": null,
      "outputs": [
        {
          "output_type": "stream",
          "name": "stdout",
          "text": [
            "14\n",
            "0.5\n",
            "2.0\n",
            "2\n",
            "0\n",
            "8\n",
            "1.4142135623730951\n",
            "1.4142\n",
            "20.0\n",
            "1\n",
            "0.5\n",
            "512\n"
          ]
        }
      ]
    },
    {
      "cell_type": "code",
      "source": [
        "number1=2\n",
        "print(number1)\n",
        "number1=4\n",
        "print(number1)\n",
        "name=\"Harshit\"\n",
        "print(name)\n",
        "name=123\n",
        "print(name)\n",
        "user_one_name=\"rohit\"  #snake case writing\n",
        "userOneName=\"Mohit\" # camel case writing\n"
      ],
      "metadata": {
        "colab": {
          "base_uri": "https://localhost:8080/"
        },
        "id": "8GxQvJDICBAi",
        "outputId": "6e3748bd-216d-48b5-c342-24fd89cacce3"
      },
      "execution_count": null,
      "outputs": [
        {
          "output_type": "stream",
          "name": "stdout",
          "text": [
            "2\n",
            "4\n"
          ]
        }
      ]
    },
    {
      "cell_type": "code",
      "source": [
        "print(\"hello \\\"hello\\'\")\n",
        "print(\"line A \\nline B\")\n",
        "print(\"this is backslash \\\\\")\n",
        "print(r\"hello \\\\n line b\")\n",
        "print(\"hello \\\\n line b\")\n",
        "print(2+3)\n",
        "print(2*3)\n",
        "print(2/3)\n",
        "print(40//3)\n",
        "print(2**3)\n",
        "\n"
      ],
      "metadata": {
        "colab": {
          "base_uri": "https://localhost:8080/"
        },
        "id": "7qUBUCceEWOM",
        "outputId": "513ff030-0950-4468-9dd2-df2bf4cc0401"
      },
      "execution_count": null,
      "outputs": [
        {
          "output_type": "stream",
          "name": "stdout",
          "text": [
            "hello \"hello'\n",
            "line A \n",
            "line B\n",
            "this is backslash \\\n",
            "hello \\\\n line b\n",
            "hello \\n line b\n",
            "5\n",
            "6\n",
            "0.6666666666666666\n",
            "13\n"
          ]
        }
      ]
    },
    {
      "cell_type": "code",
      "source": [
        "first_name=\"Harshit\"\n",
        "last_name=\"Kumar\"\n",
        "full_name=first_name + \" \" + last_name\n",
        "print(full_name)\n",
        "# print(first_name + 3)   error\n",
        "print(first_name + \"3\")  # no error\n",
        "print(first_name + str(3))\n",
        "print(first_name * 3)"
      ],
      "metadata": {
        "colab": {
          "base_uri": "https://localhost:8080/"
        },
        "id": "6VOvvRYEGsa5",
        "outputId": "66c9c8e2-1eed-4f9e-f0df-550dfc9c9cec"
      },
      "execution_count": null,
      "outputs": [
        {
          "output_type": "stream",
          "name": "stdout",
          "text": [
            "Harshit Kumar\n",
            "Harshit3\n",
            "Harshit3\n",
            "HarshitHarshitHarshit\n"
          ]
        }
      ]
    },
    {
      "cell_type": "code",
      "source": [
        "# user input\n",
        "#  input function\n",
        "name=input(\"type your name\")\n",
        "print(\"hello\"+name)\n",
        "# string\n",
        "age=input(\"what is your age\")\n",
        "# 24.\"24\"\n",
        "print(\"your age is\"+age)"
      ],
      "metadata": {
        "id": "l-_f8wfacGdc"
      },
      "execution_count": null,
      "outputs": []
    },
    {
      "cell_type": "code",
      "source": [
        "number_one=input(\"enter first number\")\n",
        "number_two=input(\"enter second number\")\n",
        "total=number_one+number_two\n",
        "print(\"total is\"+str(total))\n",
        "# str\n",
        "# 4 ---> \"4\"\n",
        "\n",
        "# int\n",
        "# \"4\" --->4\n",
        "\n",
        "# float \n",
        "# \"4\" -->4.0"
      ],
      "metadata": {
        "id": "bAYrMqwvc1-y"
      },
      "execution_count": null,
      "outputs": []
    },
    {
      "cell_type": "code",
      "source": [
        "name,age=\"harshit\" ,\"24\"\n",
        "print(\"hello\" +name + \"your age id \" + age)\n",
        "x=y=z=1\n",
        "print(x+y+z)"
      ],
      "metadata": {
        "id": "1XK39hcKeF9s"
      },
      "execution_count": null,
      "outputs": []
    },
    {
      "cell_type": "code",
      "source": [
        "# name=input(\"enter your name: \")\n",
        "# age=input(\"enter your age: \")\n",
        "name,age=input(\"enter your name and age\").split(\",\")\n",
        "print(name)\n",
        "print(age)"
      ],
      "metadata": {
        "id": "BqdQrQXefDCX"
      },
      "execution_count": null,
      "outputs": []
    },
    {
      "cell_type": "code",
      "source": [],
      "metadata": {
        "id": "8Iz_nzjSdV3C"
      },
      "execution_count": null,
      "outputs": []
    },
    {
      "cell_type": "code",
      "source": [
        "name=\"harshit\"\n",
        "age=24\n",
        "print(\"hello {} your age is {}\".format(nME,age))  #python 3\n",
        "print(\"hello {} your age is {age + 2 } \")  "
      ],
      "metadata": {
        "id": "P5TKLaOskyVn",
        "colab": {
          "base_uri": "https://localhost:8080/",
          "height": 217
        },
        "outputId": "b4c50c1f-727c-4c0d-9872-f6ac74aeb469"
      },
      "execution_count": 1,
      "outputs": [
        {
          "output_type": "error",
          "ename": "NameError",
          "evalue": "ignored",
          "traceback": [
            "\u001b[0;31m---------------------------------------------------------------------------\u001b[0m",
            "\u001b[0;31mNameError\u001b[0m                                 Traceback (most recent call last)",
            "\u001b[0;32m<ipython-input-1-21440d9d54c3>\u001b[0m in \u001b[0;36m<module>\u001b[0;34m\u001b[0m\n\u001b[1;32m      1\u001b[0m \u001b[0mname\u001b[0m\u001b[0;34m=\u001b[0m\u001b[0;34m\"harshit\"\u001b[0m\u001b[0;34m\u001b[0m\u001b[0;34m\u001b[0m\u001b[0m\n\u001b[1;32m      2\u001b[0m \u001b[0mage\u001b[0m\u001b[0;34m=\u001b[0m\u001b[0;36m24\u001b[0m\u001b[0;34m\u001b[0m\u001b[0;34m\u001b[0m\u001b[0m\n\u001b[0;32m----> 3\u001b[0;31m \u001b[0mprint\u001b[0m\u001b[0;34m(\u001b[0m\u001b[0;34m\"hello {} your age is {}\"\u001b[0m\u001b[0;34m.\u001b[0m\u001b[0mformat\u001b[0m\u001b[0;34m(\u001b[0m\u001b[0mnME\u001b[0m\u001b[0;34m,\u001b[0m\u001b[0mage\u001b[0m\u001b[0;34m)\u001b[0m\u001b[0;34m)\u001b[0m  \u001b[0;31m#python 3\u001b[0m\u001b[0;34m\u001b[0m\u001b[0;34m\u001b[0m\u001b[0m\n\u001b[0m\u001b[1;32m      4\u001b[0m \u001b[0mprint\u001b[0m\u001b[0;34m(\u001b[0m\u001b[0;34m\"hello {} your age is {age + 2 } \"\u001b[0m\u001b[0;34m)\u001b[0m\u001b[0;34m\u001b[0m\u001b[0;34m\u001b[0m\u001b[0m\n",
            "\u001b[0;31mNameError\u001b[0m: name 'nME' is not defined"
          ]
        }
      ]
    },
    {
      "cell_type": "code",
      "source": [
        "# num1=input(\"enter first number :\")\n",
        "# num2=input(\"enter second number :\")\n",
        "# num3=input(\"enter third number :\")\n",
        "num1,num2,num3=input(\"enter three numbers comma separated \").split(\",\")\n",
        "\n",
        "print(f\"average of three numbers :{(int(num1)+int(num2)+int(num3))//3}\")"
      ],
      "metadata": {
        "id": "9_IZ3bx-mCQB"
      },
      "execution_count": null,
      "outputs": []
    },
    {
      "cell_type": "code",
      "source": [],
      "metadata": {
        "id": "BhgEcgYDoJ8O"
      },
      "execution_count": null,
      "outputs": []
    }
  ]
}